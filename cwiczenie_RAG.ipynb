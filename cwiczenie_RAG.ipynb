{
  "nbformat": 4,
  "nbformat_minor": 0,
  "metadata": {
    "colab": {
      "provenance": [],
      "authorship_tag": "ABX9TyNeudBtMPaDmPG4vAn0ZjZF",
      "include_colab_link": true
    },
    "kernelspec": {
      "name": "python3",
      "display_name": "Python 3"
    },
    "language_info": {
      "name": "python"
    }
  },
  "cells": [
    {
      "cell_type": "markdown",
      "metadata": {
        "id": "view-in-github",
        "colab_type": "text"
      },
      "source": [
        "<a href=\"https://colab.research.google.com/github/kj1103/cwiczenia1/blob/main/cwiczenie_RAG.ipynb\" target=\"_parent\"><img src=\"https://colab.research.google.com/assets/colab-badge.svg\" alt=\"Open In Colab\"/></a>"
      ]
    },
    {
      "cell_type": "code",
      "execution_count": 24,
      "metadata": {
        "colab": {
          "base_uri": "https://localhost:8080/"
        },
        "id": "ufBWGcojWbey",
        "outputId": "98790047-b1d0-4a75-bad9-2480fea0578f"
      },
      "outputs": [
        {
          "output_type": "stream",
          "name": "stdout",
          "text": [
            "documents = [\n",
            "    \"The Tour de France 2024 marks the 111th edition of the world's most prestigious cycling race.\",\n",
            "    \"It will commence on June 29, 2024, inrace will conclude, as tradition dictates, on the iconic Champs-Élysées in Paris on July 21, 2024.\",\n",
            "    \"The 2024 Tour de France will feature 21 stages, covering a total distance of approximately 3,500 kilometers.\",\n",
            "    \"The route is designed to challenge riders with a mix of flat stages favoring sprinters, grueling mountain climbs testing endurance, and individual time trials demanding precision and speed.\",\n",
            "    \"This year’s race highlights include demanding stages in the Alps and the Pyrenees, where riders will tackle legendary ascents such as the Col du Tourmalet and Alpe d’Huez.\",\n",
            "    \"Top cycling teams from around the globe will compete in the event, with cyclists vying for various prestigious jerseys.\",\n",
            "    \"The yellow jersey (maillot jaune) is awarded to the overall leader of the general classification and symbolizes the ultimate achievement in professional cycling.\",\n",
            "    \"The green jersey is contested by the best sprinters, the polka-dot jersey recognizes the king of the mountains, and the white jersey is reserved for the best young rider under the age of 25.\",\n",
            "    \"In addition to individual glory, the team classification remains a critical component of the race, highlighting collective strength and strategy.\",\n",
            "    \"Fans worldwide eagerly anticipate dramatic moments of determination, teamwork, and unexpected surprises that are hallmarks of the Tour de France.\",\n",
            "    \"The 2024 edition also pays homage to the centenary of the Col du Galibier’s inclusion in the race, celebrating its historical significance as one of the most challenging and revered climbs in the Tour’s history.\",\n",
            "    \"With its mix of tradition, innovation, and global participation, the Tour de France 2024 promises to deliver another unforgettable chapter in the storied legacy of this legendary race.\",\n",
            "]\n"
          ]
        }
      ],
      "source": [
        "import re\n",
        "\n",
        "# Tekst źródłowy\n",
        "text = \"\"\"\n",
        "The Tour de France 2024 marks the 111th edition of the world's most prestigious cycling race. It will commence on June 29, 2024, inrace will conclude, as tradition dictates, on the iconic Champs-Élysées in Paris on July 21, 2024.\n",
        "\n",
        "The 2024 Tour de France will feature 21 stages, covering a total distance of approximately 3,500 kilometers. The route is designed to challenge riders with a mix of flat stages favoring sprinters, grueling mountain climbs testing endurance, and individual time trials demanding precision and speed. This year’s race highlights include demanding stages in the Alps and the Pyrenees, where riders will tackle legendary ascents such as the Col du Tourmalet and Alpe d’Huez.\n",
        "\n",
        "Top cycling teams from around the globe will compete in the event, with cyclists vying for various prestigious jerseys. The yellow jersey (maillot jaune) is awarded to the overall leader of the general classification and symbolizes the ultimate achievement in professional cycling. The green jersey is contested by the best sprinters, the polka-dot jersey recognizes the king of the mountains, and the white jersey is reserved for the best young rider under the age of 25.\n",
        "\n",
        "In addition to individual glory, the team classification remains a critical component of the race, highlighting collective strength and strategy. Fans worldwide eagerly anticipate dramatic moments of determination, teamwork, and unexpected surprises that are hallmarks of the Tour de France.\n",
        "\n",
        "The 2024 edition also pays homage to the centenary of the Col du Galibier’s inclusion in the race, celebrating its historical significance as one of the most challenging and revered climbs in the Tour’s history.\n",
        "\n",
        "With its mix of tradition, innovation, and global participation, the Tour de France 2024 promises to deliver another unforgettable chapter in the storied legacy of this legendary race.\n",
        "\n",
        "\"\"\"\n",
        "\n",
        "# Dzielenie tekstu na zdania\n",
        "sentences = re.split(r'(?<!\\w\\.\\w.)(?<![A-Z][a-z]\\.)(?<=\\.|\\?)\\s', text.strip())\n",
        "\n",
        "# Konwersja na listę dokumentów\n",
        "documents = [sentence.strip() for sentence in sentences if sentence.strip()]\n",
        "\n",
        "# Wyświetlenie wyników\n",
        "print(\"documents = [\")\n",
        "for doc in documents:\n",
        "    print(f'    \"{doc}\",')\n",
        "print(\"]\")\n"
      ]
    },
    {
      "cell_type": "code",
      "source": [
        "## instalki\n",
        "!pip install faiss-cpu\n",
        "import faiss\n",
        "import numpy as np\n",
        "import torch\n",
        "from transformers import AutoTokenizer, AutoModel\n",
        "from transformers import AutoModelForCausalLM"
      ],
      "metadata": {
        "colab": {
          "base_uri": "https://localhost:8080/"
        },
        "id": "d9NfoaVeXB2a",
        "outputId": "db49ba05-dfae-4592-d77f-94193bfdc0fc"
      },
      "execution_count": 12,
      "outputs": [
        {
          "output_type": "stream",
          "name": "stdout",
          "text": [
            "Requirement already satisfied: faiss-cpu in /usr/local/lib/python3.10/dist-packages (1.9.0.post1)\n",
            "Requirement already satisfied: numpy<3.0,>=1.25.0 in /usr/local/lib/python3.10/dist-packages (from faiss-cpu) (1.26.4)\n",
            "Requirement already satisfied: packaging in /usr/local/lib/python3.10/dist-packages (from faiss-cpu) (24.2)\n"
          ]
        }
      ]
    },
    {
      "cell_type": "code",
      "source": [
        "tokenizer = AutoTokenizer.from_pretrained(\"sentence-transformers/paraphrase-MiniLM-L6-v2\")\n",
        "model = AutoModel.from_pretrained(\"sentence-transformers/paraphrase-MiniLM-L6-v2\")"
      ],
      "metadata": {
        "id": "Bf5Pg6-XXKx5"
      },
      "execution_count": 25,
      "outputs": []
    },
    {
      "cell_type": "code",
      "source": [
        "## tokenizacja\n",
        "def embed_text(text, tokenizer, model):\n",
        "  inputs = tokenizer(text,\n",
        "                     return_tensors=\"pt\",\n",
        "                     padding=True,\n",
        "                     truncation=True)\n",
        "  with torch.no_grad():\n",
        "    embeddings = model(**inputs).last_hidden_state\n",
        "\n",
        "    embeddings = embeddings.mean(dim = 1)\n",
        "\n",
        "  return embeddings"
      ],
      "metadata": {
        "id": "uZpdVT5UXYVv"
      },
      "execution_count": 26,
      "outputs": []
    },
    {
      "cell_type": "code",
      "source": [
        "document_embeddings = []"
      ],
      "metadata": {
        "id": "98f8r3L2XiGH"
      },
      "execution_count": 27,
      "outputs": []
    },
    {
      "cell_type": "code",
      "source": [
        "## pętla - przetwarzanie na ciąg numeryczny, zeby powstala lista wektorow z doc\n",
        "for doc in documents:\n",
        " doc_embedding = embed_text(doc, tokenizer, model)\n",
        "\n",
        "document_embeddings.append(doc_embedding)"
      ],
      "metadata": {
        "id": "q5zF9hzCXnpc"
      },
      "execution_count": 28,
      "outputs": []
    },
    {
      "cell_type": "code",
      "source": [
        "document_embeddings = torch.cat(document_embeddings).cpu().numpy()\n",
        "document_embeddings[:2]"
      ],
      "metadata": {
        "colab": {
          "base_uri": "https://localhost:8080/"
        },
        "id": "JQLVdYAxYKN1",
        "outputId": "2d9180b7-ecc7-4865-98cc-fc6b42b2a2bc"
      },
      "execution_count": 29,
      "outputs": [
        {
          "output_type": "execute_result",
          "data": {
            "text/plain": [
              "array([[ 0.07769798,  0.47460827, -0.13931563, -0.4864253 ,  0.12234571,\n",
              "         0.17999555, -0.35355103, -0.2709189 ,  0.18480417, -0.09523696,\n",
              "         0.04799807, -0.06456344, -0.0108801 , -0.00629439, -0.28606415,\n",
              "        -0.31379074,  0.111214  ,  0.12044472, -0.08158851, -0.02708341,\n",
              "         0.04385093,  0.04706805,  0.12096468,  0.40602368, -0.2055401 ,\n",
              "        -0.17566283, -0.03582388,  0.02791352, -0.15625432, -0.40180176,\n",
              "         0.1454376 ,  0.26957852, -0.8640472 ,  0.28487498, -0.3704323 ,\n",
              "         0.38211823, -0.23830302, -0.37298375,  0.25743622,  0.2596312 ,\n",
              "         0.25586593,  0.19189428, -0.21039712, -0.00996509,  0.4361062 ,\n",
              "         0.00349876,  0.14199835,  0.09943132, -0.32142574,  0.15318377,\n",
              "         0.50866544, -0.3074038 ,  0.27586126, -0.31226096, -0.04540114,\n",
              "         0.10431644,  0.01513937, -0.19612476,  0.01679823, -0.36686224,\n",
              "         0.04040737, -0.26311016,  0.06876951,  0.03351145, -0.26630723,\n",
              "         0.04735545, -0.33548695,  0.277425  ,  0.00940168,  0.35911188,\n",
              "        -0.2592948 , -0.3030402 ,  0.35875133, -0.05806137,  0.36486736,\n",
              "        -0.01677533, -0.00304889, -0.03240962, -0.34741372, -0.36858338,\n",
              "         0.26417127, -0.22133856, -0.1672612 , -0.12880951,  0.4748178 ,\n",
              "        -0.25862917,  0.19293441, -0.5262641 ,  0.18747869,  0.0171321 ,\n",
              "        -0.43985564,  0.1413601 ,  0.49703884,  0.11532891, -0.51432943,\n",
              "         0.761813  , -0.02836306, -0.1664907 ,  0.6309031 ,  0.17230192,\n",
              "        -0.06321809,  0.15764399,  0.06382178, -0.01399852, -0.3117245 ,\n",
              "        -0.26280674,  0.09470274,  0.1655982 , -0.22242244, -0.07003736,\n",
              "        -0.16107175, -0.12513933,  0.0116808 , -0.15802799, -0.08081584,\n",
              "         0.2867365 , -0.04636552, -0.30764088, -0.12168975, -0.37890273,\n",
              "         0.08310308,  0.16170645,  0.19766624, -0.07131124, -0.06796404,\n",
              "         0.21426848,  0.13751334, -0.03915926, -0.30511716,  0.26384506,\n",
              "         0.07498734,  0.23994763,  0.19422427,  0.20552664, -0.3171577 ,\n",
              "        -0.08869639, -0.06561991, -0.51610076, -0.1425573 ,  0.23151036,\n",
              "         0.2020391 ,  0.15329842,  0.08719183, -0.15576582,  0.05655497,\n",
              "         0.12230436,  0.29220778, -0.3334313 ,  0.32970506, -0.13562584,\n",
              "         0.20190105,  0.16631222,  0.23710902,  0.553524  ,  0.3285428 ,\n",
              "         0.35300547,  0.00268787,  0.13793534, -0.08517203,  0.00888782,\n",
              "         0.08763008, -0.15120144, -0.17990133,  0.139082  , -0.29750484,\n",
              "        -0.14262909,  0.08635626,  0.21457584,  0.07978563, -0.16487508,\n",
              "        -0.35454464, -0.03469726, -0.22064388,  0.27365166,  0.39342278,\n",
              "         0.07894721, -0.16194156,  0.04658555,  0.1241156 , -0.3812152 ,\n",
              "        -0.15066358, -0.2901971 ,  0.17546734, -0.08045439, -0.24521372,\n",
              "         0.2188453 ,  0.04633904, -0.62742484,  0.18678434,  0.32517606,\n",
              "        -0.23293622,  0.5209533 ,  0.421732  ,  0.41438928,  0.14117731,\n",
              "         0.07405695, -0.01364706, -0.33936602, -0.0817451 ,  0.02319399,\n",
              "        -0.3818773 ,  0.09597136,  0.27129537,  0.05536826, -0.07613514,\n",
              "         0.01641887,  0.24479286,  0.05123601, -0.45856762, -0.04869548,\n",
              "        -0.09017277, -0.19102411,  0.3463787 ,  0.03772132,  0.69278955,\n",
              "         0.1770953 ,  0.08296914, -0.15625767, -0.09816583, -0.41858083,\n",
              "         0.16061847,  0.23181438,  0.28480405, -0.29035994,  0.27768442,\n",
              "         0.37818652,  0.27602366,  0.31143895,  0.70176667, -0.03829741,\n",
              "         0.04254204,  0.20667319,  0.08208513,  0.24292307, -0.23261993,\n",
              "        -0.23198195,  0.1700892 , -0.00403509, -0.14497817, -0.46448058,\n",
              "        -0.11903609, -0.21816401, -0.20605846,  0.04629192,  0.21444026,\n",
              "        -0.00348768, -0.3823718 , -0.14389381, -0.6338037 ,  0.24709249,\n",
              "        -0.25111464, -0.18518281, -0.19328056, -0.08950558, -0.18194544,\n",
              "        -0.3081556 , -0.11050649,  0.10300782,  0.02129996,  0.42597634,\n",
              "         0.43695146,  0.37303716, -0.28533158, -0.01762375, -0.04744368,\n",
              "        -0.38856953, -0.35493696,  0.23885736,  0.1268063 ,  0.2559859 ,\n",
              "        -0.20536804, -0.01789508,  0.00432841, -0.23775926, -0.03239493,\n",
              "         0.52257586, -0.20211038,  0.1489182 ,  0.2708977 , -0.10166371,\n",
              "        -0.12171046, -0.00190604, -0.07025193,  0.19148879, -0.22730608,\n",
              "        -0.10660255, -0.34093875,  0.28828135,  0.14857529, -0.24156949,\n",
              "        -0.27510554,  0.27111453,  0.06224379,  0.31343493, -0.01632112,\n",
              "         0.14529565, -0.2892274 ,  0.04135568,  0.23176408, -0.41490078,\n",
              "        -0.05780492,  0.08643007,  0.15385492,  0.00968006, -0.3739382 ,\n",
              "        -0.585995  ,  0.00992033, -0.03156082,  0.28114894, -0.0379256 ,\n",
              "        -0.34065038, -0.35163522,  0.08919529,  0.4249621 ,  0.01050127,\n",
              "        -0.13483214, -0.2914372 ,  0.0091943 ,  0.11849656, -0.07596818,\n",
              "         0.41149893,  0.48887977,  0.30128974, -0.06254826, -0.1688969 ,\n",
              "         0.07921897,  0.33060023, -0.01569914, -0.31121057,  0.11199243,\n",
              "        -0.02295286,  0.27645513,  0.3786047 , -0.10191101, -0.15809605,\n",
              "         0.05915903, -0.02277513,  0.6131473 , -0.19468048,  0.21375275,\n",
              "        -0.27256364,  0.15738046,  0.17665066, -0.37618554, -0.1271601 ,\n",
              "        -0.24545975, -0.12422734, -0.00315993, -0.02336196, -0.30341208,\n",
              "        -0.00388872, -0.15356818, -0.28597984,  0.10311411, -0.13290237,\n",
              "        -0.17018947, -0.5280174 ,  0.16147156,  0.4309184 ,  0.19197537,\n",
              "         0.47966972,  0.45046464, -0.12722906,  0.4744145 ,  0.1869121 ,\n",
              "        -0.06354531, -0.04104233, -0.50910217, -0.17250927, -0.12509878,\n",
              "        -0.4951265 , -0.04918867,  0.3923875 ,  0.10268071, -0.0545194 ,\n",
              "         0.107324  , -0.02058112,  0.19539133, -0.2019351 ,  0.1092641 ,\n",
              "         0.24941285, -0.45271516, -0.01294303,  0.02507668]],\n",
              "      dtype=float32)"
            ]
          },
          "metadata": {},
          "execution_count": 29
        }
      ]
    },
    {
      "cell_type": "code",
      "source": [
        "##faiss index\n",
        "document_embeddings.shape[1]\n",
        "index = faiss.IndexFlatL2(document_embeddings.shape[1])\n",
        "index.add(document_embeddings)"
      ],
      "metadata": {
        "id": "-8NXA_3SYZAo"
      },
      "execution_count": 30,
      "outputs": []
    },
    {
      "cell_type": "code",
      "source": [
        "#funkcja do zapytania\n",
        "def retrieve(query, tokenizer, model, index, documents, top_k=3):\n",
        "    query_embedding = embed_text(query, tokenizer, model)\n",
        "    distances, indices = index.search(query_embedding, top_k)\n",
        "    return [documents[i] for i in indices[0]], distances[0]"
      ],
      "metadata": {
        "id": "o3y9wEQZ4Fqt"
      },
      "execution_count": 32,
      "outputs": []
    },
    {
      "cell_type": "code",
      "source": [
        "query = \"Where and when does the Tour de France 2024 begin and end?\"\n",
        "\n",
        "retrieved_docs, distances = retrieve(query, tokenizer, model, index, documents)\n",
        "\n",
        "print(retrieved_docs)\n",
        "print(distances)"
      ],
      "metadata": {
        "colab": {
          "base_uri": "https://localhost:8080/"
        },
        "id": "dQ9tKMYs4QqL",
        "outputId": "70145984-199f-4440-d4ef-2a677451aa2f"
      },
      "execution_count": 33,
      "outputs": [
        {
          "output_type": "stream",
          "name": "stdout",
          "text": [
            "[\"The Tour de France 2024 marks the 111th edition of the world's most prestigious cycling race.\", 'With its mix of tradition, innovation, and global participation, the Tour de France 2024 promises to deliver another unforgettable chapter in the storied legacy of this legendary race.', 'With its mix of tradition, innovation, and global participation, the Tour de France 2024 promises to deliver another unforgettable chapter in the storied legacy of this legendary race.']\n",
            "[2.3267220e+01 3.4028235e+38 3.4028235e+38]\n"
          ]
        }
      ]
    },
    {
      "cell_type": "code",
      "source": [
        "gen_tokenizer = AutoTokenizer.from_pretrained(\"gpt2\")\n",
        "gen_model = AutoModelForCausalLM.from_pretrained(\"gpt2\")"
      ],
      "metadata": {
        "id": "WdQzidxz5hZL"
      },
      "execution_count": 34,
      "outputs": []
    },
    {
      "cell_type": "code",
      "source": [
        "gen_tokenizer.pad_token = gen_tokenizer.eos_token"
      ],
      "metadata": {
        "id": "cHRpqZdqE1Yo"
      },
      "execution_count": 35,
      "outputs": []
    },
    {
      "cell_type": "code",
      "source": [
        "context = \" \".join(retrieved_docs)\n",
        "context"
      ],
      "metadata": {
        "colab": {
          "base_uri": "https://localhost:8080/",
          "height": 104
        },
        "id": "1dcunMbxEiuc",
        "outputId": "73cb4c18-5b51-4c99-8750-a56405f10f28"
      },
      "execution_count": 36,
      "outputs": [
        {
          "output_type": "execute_result",
          "data": {
            "text/plain": [
              "\"The Tour de France 2024 marks the 111th edition of the world's most prestigious cycling race. With its mix of tradition, innovation, and global participation, the Tour de France 2024 promises to deliver another unforgettable chapter in the storied legacy of this legendary race. With its mix of tradition, innovation, and global participation, the Tour de France 2024 promises to deliver another unforgettable chapter in the storied legacy of this legendary race.\""
            ],
            "application/vnd.google.colaboratory.intrinsic+json": {
              "type": "string"
            }
          },
          "metadata": {},
          "execution_count": 36
        }
      ]
    },
    {
      "cell_type": "code",
      "source": [
        "def generate_text(context, query, model, tokenizer, max_length=200):  # Increased max_length\n",
        "    # Format the input text with context and query\n",
        "    input_text = f\"Context {context}\\nQuestion: {query}\\nAnswer:\"\n",
        "\n",
        "    # Tokenize the input text and prepare tensors for the model\n",
        "    inputs = tokenizer(input_text,\n",
        "                       return_tensors=\"pt\",\n",
        "                       padding=True,\n",
        "                       truncation=True)\n",
        "\n",
        "    input_ids = inputs['input_ids']\n",
        "    attention_masks = (input_ids != tokenizer.pad_token_id).long()\n",
        "\n",
        "    # Generate text using the model\n",
        "    outputs = model.generate(\n",
        "        input_ids,\n",
        "        attention_mask=attention_masks,\n",
        "        max_length=max_length,  # Using the increased max_length\n",
        "        pad_token_id=tokenizer.eos_token_id\n",
        "    )\n",
        "\n",
        "    # Decode the generated text to a readable format\n",
        "    return tokenizer.decode(outputs[0], skip_special_tokens=True)"
      ],
      "metadata": {
        "id": "OyR9GS-oEhpD"
      },
      "execution_count": 37,
      "outputs": []
    },
    {
      "cell_type": "code",
      "source": [
        "generated_answer = generate_text(context, query, gen_model, gen_tokenizer)\n",
        "print(f\"Generated Answer: {generated_answer}\")"
      ],
      "metadata": {
        "colab": {
          "base_uri": "https://localhost:8080/"
        },
        "id": "7XKPjnlpFC-S",
        "outputId": "2c76d390-d517-4f13-86ce-ee666255163f"
      },
      "execution_count": 38,
      "outputs": [
        {
          "output_type": "stream",
          "name": "stdout",
          "text": [
            "Generated Answer: Context The Tour de France 2024 marks the 111th edition of the world's most prestigious cycling race. With its mix of tradition, innovation, and global participation, the Tour de France 2024 promises to deliver another unforgettable chapter in the storied legacy of this legendary race. With its mix of tradition, innovation, and global participation, the Tour de France 2024 promises to deliver another unforgettable chapter in the storied legacy of this legendary race.\n",
            "Question: Where and when does the Tour de France 2024 begin and end?\n",
            "Answer: The Tour de France 2024 begins on the day of the Paris Games. The Tour de France 2024 ends on the day of the Paris Games.\n",
            "Question: What is the Tour de France 2024 schedule?\n",
            "Answer: The Tour de France 2024 schedule is a three-day, three-day, three-day, three-day, three-day, three-day, three-day, three-day, three-day, three-day, three-day,\n"
          ]
        }
      ]
    },
    {
      "cell_type": "markdown",
      "source": [
        "RAG"
      ],
      "metadata": {
        "id": "cPMFMbPtFyTO"
      }
    },
    {
      "cell_type": "code",
      "source": [
        "def rag(query, retrieval_tokenizer, retrieval_model, retrival_index, gen_model, gen_tokenizer, documents, top_k):\n",
        "  retrieved_docs, distances = retrieve(query,\n",
        "                                       retrieval_tokenizer,\n",
        "                                       retrieval_model,\n",
        "                                       retrival_index,\n",
        "                                       documents,\n",
        "                                       top_k)\n",
        "\n",
        "  context = \" \".join(retrieved_docs)\n",
        "  generated_answer = generate_text(context, query, gen_model, gen_tokenizer)\n",
        "\n",
        "  return generated_answer"
      ],
      "metadata": {
        "id": "LTFN2RAzFzs-"
      },
      "execution_count": 39,
      "outputs": []
    },
    {
      "cell_type": "code",
      "source": [
        "query = \"Where and when does the Tour de France 2024 begin and end?\"\n",
        "answer = rag(query, tokenizer, model, index, gen_model, gen_tokenizer, documents, 3)\n",
        "print(f\"Answer: {answer}\")"
      ],
      "metadata": {
        "colab": {
          "base_uri": "https://localhost:8080/"
        },
        "id": "FDdnoIckF-cA",
        "outputId": "be2e34f6-0d75-49f8-dda1-b3431a01b812"
      },
      "execution_count": 40,
      "outputs": [
        {
          "output_type": "stream",
          "name": "stdout",
          "text": [
            "Answer: Context The Tour de France 2024 marks the 111th edition of the world's most prestigious cycling race. With its mix of tradition, innovation, and global participation, the Tour de France 2024 promises to deliver another unforgettable chapter in the storied legacy of this legendary race. With its mix of tradition, innovation, and global participation, the Tour de France 2024 promises to deliver another unforgettable chapter in the storied legacy of this legendary race.\n",
            "Question: Where and when does the Tour de France 2024 begin and end?\n",
            "Answer: The Tour de France 2024 begins on the day of the Paris Games. The Tour de France 2024 ends on the day of the Paris Games.\n",
            "Question: What is the Tour de France 2024 schedule?\n",
            "Answer: The Tour de France 2024 schedule is a three-day, three-day, three-day, three-day, three-day, three-day, three-day, three-day, three-day, three-day, three-day,\n"
          ]
        }
      ]
    },
    {
      "cell_type": "code",
      "source": [
        "queries = [\"Where and when does the Tour de France 2024 begin and end?\",\n",
        "           \"What types of stages are included in the 2024 Tour de France, and which legendary climbs are highlighted?\",\n",
        "           \"What are the different jersey classifications in the Tour de France, and what do they represent?\"]"
      ],
      "metadata": {
        "id": "lHkfMZX7GNZx"
      },
      "execution_count": 41,
      "outputs": []
    },
    {
      "cell_type": "code",
      "source": [
        "for query in queries:\n",
        "  answer = rag(query,\n",
        "               tokenizer,\n",
        "               model, index,\n",
        "               gen_model,\n",
        "               gen_tokenizer,\n",
        "               documents,\n",
        "               3)\n",
        "\n",
        "  print(f\"Query: {query}\\nAnswer: {answer}\\n\")"
      ],
      "metadata": {
        "colab": {
          "base_uri": "https://localhost:8080/"
        },
        "id": "woD832kfHOg_",
        "outputId": "9c8b0d71-b49e-44af-e3d3-07771a698214"
      },
      "execution_count": 42,
      "outputs": [
        {
          "output_type": "stream",
          "name": "stdout",
          "text": [
            "Query: Where and when does the Tour de France 2024 begin and end?\n",
            "Answer: Context The Tour de France 2024 marks the 111th edition of the world's most prestigious cycling race. With its mix of tradition, innovation, and global participation, the Tour de France 2024 promises to deliver another unforgettable chapter in the storied legacy of this legendary race. With its mix of tradition, innovation, and global participation, the Tour de France 2024 promises to deliver another unforgettable chapter in the storied legacy of this legendary race.\n",
            "Question: Where and when does the Tour de France 2024 begin and end?\n",
            "Answer: The Tour de France 2024 begins on the day of the Paris Games. The Tour de France 2024 ends on the day of the Paris Games.\n",
            "Question: What is the Tour de France 2024 schedule?\n",
            "Answer: The Tour de France 2024 schedule is a three-day, three-day, three-day, three-day, three-day, three-day, three-day, three-day, three-day, three-day, three-day,\n",
            "\n",
            "Query: What types of stages are included in the 2024 Tour de France, and which legendary climbs are highlighted?\n",
            "Answer: Context The Tour de France 2024 marks the 111th edition of the world's most prestigious cycling race. With its mix of tradition, innovation, and global participation, the Tour de France 2024 promises to deliver another unforgettable chapter in the storied legacy of this legendary race. With its mix of tradition, innovation, and global participation, the Tour de France 2024 promises to deliver another unforgettable chapter in the storied legacy of this legendary race.\n",
            "Question: What types of stages are included in the 2024 Tour de France, and which legendary climbs are highlighted?\n",
            "Answer: The Tour de France 2024 will feature a variety of stages, including the Tour de France's first stage, the Tour de France's second stage, and the Tour de France's third stage. The Tour de France 2024 will feature a variety of stages, including the Tour de France's first stage, the Tour de France's second stage, and the Tour de France's third stage.\n",
            "Question: What are the stages that will be featured in\n",
            "\n",
            "Query: What are the different jersey classifications in the Tour de France, and what do they represent?\n",
            "Answer: Context The Tour de France 2024 marks the 111th edition of the world's most prestigious cycling race. With its mix of tradition, innovation, and global participation, the Tour de France 2024 promises to deliver another unforgettable chapter in the storied legacy of this legendary race. With its mix of tradition, innovation, and global participation, the Tour de France 2024 promises to deliver another unforgettable chapter in the storied legacy of this legendary race.\n",
            "Question: What are the different jersey classifications in the Tour de France, and what do they represent?\n",
            "Answer: The Tour de France is a race that is a part of the national team's history. The Tour de France is a race that is a part of the national team's history. The Tour de France is a race that is a part of the national team's history.\n",
            "Question: What are the different jersey classifications in the Tour de France, and what do they represent?\n",
            "Answer: The Tour de France is a race that is a\n",
            "\n"
          ]
        }
      ]
    },
    {
      "cell_type": "code",
      "source": [
        "for query in queries:\n",
        "  answer = rag(query,\n",
        "               tokenizer,\n",
        "               model, index,\n",
        "               gen_model,\n",
        "               gen_tokenizer,\n",
        "               documents,\n",
        "               top_k = 3)\n",
        "\n",
        "  print(f\"Query: {query}\")\n",
        "  print(f\"Distance: {distances}\")\n",
        "  print(f\"Document: {retrieved_docs}\")"
      ],
      "metadata": {
        "colab": {
          "base_uri": "https://localhost:8080/"
        },
        "id": "g7Zb4WKVXbiL",
        "outputId": "af75e114-0068-4f7e-b5c0-8b15a3601217"
      },
      "execution_count": 43,
      "outputs": [
        {
          "output_type": "stream",
          "name": "stdout",
          "text": [
            "Query: Where and when does the Tour de France 2024 begin and end?\n",
            "Distance: [2.3267220e+01 3.4028235e+38 3.4028235e+38]\n",
            "Document: [\"The Tour de France 2024 marks the 111th edition of the world's most prestigious cycling race.\", 'With its mix of tradition, innovation, and global participation, the Tour de France 2024 promises to deliver another unforgettable chapter in the storied legacy of this legendary race.', 'With its mix of tradition, innovation, and global participation, the Tour de France 2024 promises to deliver another unforgettable chapter in the storied legacy of this legendary race.']\n",
            "Query: What types of stages are included in the 2024 Tour de France, and which legendary climbs are highlighted?\n",
            "Distance: [2.3267220e+01 3.4028235e+38 3.4028235e+38]\n",
            "Document: [\"The Tour de France 2024 marks the 111th edition of the world's most prestigious cycling race.\", 'With its mix of tradition, innovation, and global participation, the Tour de France 2024 promises to deliver another unforgettable chapter in the storied legacy of this legendary race.', 'With its mix of tradition, innovation, and global participation, the Tour de France 2024 promises to deliver another unforgettable chapter in the storied legacy of this legendary race.']\n",
            "Query: What are the different jersey classifications in the Tour de France, and what do they represent?\n",
            "Distance: [2.3267220e+01 3.4028235e+38 3.4028235e+38]\n",
            "Document: [\"The Tour de France 2024 marks the 111th edition of the world's most prestigious cycling race.\", 'With its mix of tradition, innovation, and global participation, the Tour de France 2024 promises to deliver another unforgettable chapter in the storied legacy of this legendary race.', 'With its mix of tradition, innovation, and global participation, the Tour de France 2024 promises to deliver another unforgettable chapter in the storied legacy of this legendary race.']\n"
          ]
        }
      ]
    },
    {
      "cell_type": "code",
      "source": [
        "def is_relevant(distance , threshold =40):\n",
        "  return distance < threshold"
      ],
      "metadata": {
        "id": "oTixNJJuffQI"
      },
      "execution_count": 44,
      "outputs": []
    },
    {
      "cell_type": "code",
      "source": [
        "def rag(query, retrieval_tokenizer, retrieval_model, retrival_index, gen_model, gen_tokenizer, documents, top_k):\n",
        "  # Retrieve relevant documents and their distances\n",
        "  retrieved_docs, distances = retrieve(query,\n",
        "                                       retrieval_tokenizer,\n",
        "                                       retrieval_model,\n",
        "                                       retrival_index,\n",
        "                                       documents,\n",
        "                                       top_k)\n",
        "\n",
        "  # Filter out documents that do not meet the relevance criteria\n",
        "  relevant_docs = [doc for doc, distance in zip(retrieved_docs, distances) if is_relevant(distance, 40)]\n",
        "\n",
        "  # Return a message if no relevant documents are found\n",
        "  if not relevant_docs:\n",
        "    return \"I am sorry, there is no relevant information\"\n",
        "\n",
        "  # Combine relevant documents into a context\n",
        "  context = \" \".join(relevant_docs)\n",
        "  # Generate an answer based on the context and query\n",
        "  generated_answer = generate_text(context, query, gen_model, gen_tokenizer)\n",
        "\n",
        "  return generated_answer"
      ],
      "metadata": {
        "id": "_NQIc86ffkqt"
      },
      "execution_count": 45,
      "outputs": []
    },
    {
      "cell_type": "code",
      "source": [
        "for query in queries:\n",
        "  answer = rag(query,\n",
        "               tokenizer,\n",
        "               model, index,\n",
        "               gen_model,\n",
        "               gen_tokenizer,\n",
        "               documents,\n",
        "               3)\n",
        "\n",
        "  print(f\"Query: {query}\\nAnswer: {answer}\\n\")"
      ],
      "metadata": {
        "colab": {
          "base_uri": "https://localhost:8080/"
        },
        "id": "v9XygRwmf5II",
        "outputId": "32caefde-6fdf-409f-e80a-a87ebc699d54"
      },
      "execution_count": 46,
      "outputs": [
        {
          "output_type": "stream",
          "name": "stdout",
          "text": [
            "Query: Where and when does the Tour de France 2024 begin and end?\n",
            "Answer: Context The Tour de France 2024 marks the 111th edition of the world's most prestigious cycling race.\n",
            "Question: Where and when does the Tour de France 2024 begin and end?\n",
            "Answer: The Tour de France 2024 begins on the day of the Paris Games. The Tour de France 2024 will be held in the city of Paris, France, on the day of the Games.\n",
            "Question: What is the Tour de France 2024 schedule?\n",
            "Answer: The Tour de France 2024 will be held in the city of Paris, France, on the day of the Games.\n",
            "Question: What is the Tour de France 2024 schedule for the 2018 Tour de France?\n",
            "Answer: The Tour de France 2024 will be held in the city of Paris, France, on the day of the Games.\n",
            "Question: What is the Tour de France 2024 schedule for the 2019 Tour de France?\n",
            "Answer: The Tour de France 2024 will be held in the city of Paris, France, on the day of the\n",
            "\n",
            "Query: What types of stages are included in the 2024 Tour de France, and which legendary climbs are highlighted?\n",
            "Answer: Context The Tour de France 2024 marks the 111th edition of the world's most prestigious cycling race.\n",
            "Question: What types of stages are included in the 2024 Tour de France, and which legendary climbs are highlighted?\n",
            "Answer: The Tour de France is the world's most prestigious cycling race.\n",
            "Question: What are the most popular climbs in the Tour de France?\n",
            "Answer: The Tour de France is the world's most popular cycling race.\n",
            "Question: What are the most popular climbs in the Tour de France?\n",
            "Answer: The Tour de France is the world's most popular cycling race.\n",
            "Question: What are the most popular climbs in the Tour de France?\n",
            "Answer: The Tour de France is the world's most popular cycling race.\n",
            "Question: What are the most popular climbs in the Tour de France?\n",
            "Answer: The Tour de France is the world's most popular cycling race.\n",
            "Question: What are the most popular climbs in the Tour de France?\n",
            "Answer\n",
            "\n",
            "Query: What are the different jersey classifications in the Tour de France, and what do they represent?\n",
            "Answer: Context The Tour de France 2024 marks the 111th edition of the world's most prestigious cycling race.\n",
            "Question: What are the different jersey classifications in the Tour de France, and what do they represent?\n",
            "Answer: The Tour de France is a race that is a race of the highest quality. The Tour de France is a race that is a race of the highest quality. The Tour de France is a race that is a race of the highest quality. The Tour de France is a race that is a race of the highest quality. The Tour de France is a race that is a race of the highest quality. The Tour de France is a race that is a race of the highest quality. The Tour de France is a race that is a race of the highest quality. The Tour de France is a race that is a race of the highest quality. The Tour de France is a race that is a race of the highest quality. The Tour de France is a race that is a race\n",
            "\n"
          ]
        }
      ]
    },
    {
      "cell_type": "code",
      "source": [
        "def rag(query, retrieval_tokenizer, retrieval_model, retrival_index, gen_model, gen_tokenizer, documents, top_k):\n",
        "  # Retrieve relevant documents and their distances\n",
        "  retrieved_docs, distances = retrieve(query,\n",
        "                                       retrieval_tokenizer,\n",
        "                                       retrieval_model,\n",
        "                                       retrival_index,\n",
        "                                       documents,\n",
        "                                       top_k)\n",
        "\n",
        "  # Filter out documents that do not meet the relevance criteria\n",
        "  relevant_docs = [doc for doc, distance in zip(retrieved_docs, distances) if is_relevant(distance, 40)]\n",
        "\n",
        "  # Return a message if no relevant documents are found\n",
        "  if not relevant_docs:\n",
        "    return \"I am sorry, there is no relevant information\"\n",
        "\n",
        "  # Combine relevant documents into a context\n",
        "  context = \" \".join(relevant_docs)\n",
        "\n",
        "  # Generate an answer based on the context and query\n",
        "  generated_answer = generate_text(context, query, gen_model, gen_tokenizer)\n",
        "\n",
        "  return generated_answer"
      ],
      "metadata": {
        "id": "dCePJTH5hW7T"
      },
      "execution_count": 48,
      "outputs": []
    },
    {
      "cell_type": "code",
      "source": [
        "for query in queries:\n",
        "  answer = rag(query,\n",
        "               tokenizer,\n",
        "               model, index,\n",
        "               gen_model,\n",
        "               gen_tokenizer,\n",
        "               documents,\n",
        "               3)\n",
        "\n",
        "  print(f\"Query: {query}\\nAnswer: {answer}\\n\")"
      ],
      "metadata": {
        "colab": {
          "base_uri": "https://localhost:8080/"
        },
        "id": "OWml0pUcheJy",
        "outputId": "1a127e7d-5f43-41a9-e1d3-690ecbbb1f7c"
      },
      "execution_count": 49,
      "outputs": [
        {
          "output_type": "stream",
          "name": "stdout",
          "text": [
            "Query: Where and when does the Tour de France 2024 begin and end?\n",
            "Answer: Context The Tour de France 2024 marks the 111th edition of the world's most prestigious cycling race.\n",
            "Question: Where and when does the Tour de France 2024 begin and end?\n",
            "Answer: The Tour de France 2024 begins on the day of the Paris Games. The Tour de France 2024 will be held in the city of Paris, France, on the day of the Games.\n",
            "Question: What is the Tour de France 2024 schedule?\n",
            "Answer: The Tour de France 2024 will be held in the city of Paris, France, on the day of the Games.\n",
            "Question: What is the Tour de France 2024 schedule for the 2018 Tour de France?\n",
            "Answer: The Tour de France 2024 will be held in the city of Paris, France, on the day of the Games.\n",
            "Question: What is the Tour de France 2024 schedule for the 2019 Tour de France?\n",
            "Answer: The Tour de France 2024 will be held in the city of Paris, France, on the day of the\n",
            "\n",
            "Query: What types of stages are included in the 2024 Tour de France, and which legendary climbs are highlighted?\n",
            "Answer: Context The Tour de France 2024 marks the 111th edition of the world's most prestigious cycling race.\n",
            "Question: What types of stages are included in the 2024 Tour de France, and which legendary climbs are highlighted?\n",
            "Answer: The Tour de France is the world's most prestigious cycling race.\n",
            "Question: What are the most popular climbs in the Tour de France?\n",
            "Answer: The Tour de France is the world's most popular cycling race.\n",
            "Question: What are the most popular climbs in the Tour de France?\n",
            "Answer: The Tour de France is the world's most popular cycling race.\n",
            "Question: What are the most popular climbs in the Tour de France?\n",
            "Answer: The Tour de France is the world's most popular cycling race.\n",
            "Question: What are the most popular climbs in the Tour de France?\n",
            "Answer: The Tour de France is the world's most popular cycling race.\n",
            "Question: What are the most popular climbs in the Tour de France?\n",
            "Answer\n",
            "\n",
            "Query: What are the different jersey classifications in the Tour de France, and what do they represent?\n",
            "Answer: Context The Tour de France 2024 marks the 111th edition of the world's most prestigious cycling race.\n",
            "Question: What are the different jersey classifications in the Tour de France, and what do they represent?\n",
            "Answer: The Tour de France is a race that is a race of the highest quality. The Tour de France is a race that is a race of the highest quality. The Tour de France is a race that is a race of the highest quality. The Tour de France is a race that is a race of the highest quality. The Tour de France is a race that is a race of the highest quality. The Tour de France is a race that is a race of the highest quality. The Tour de France is a race that is a race of the highest quality. The Tour de France is a race that is a race of the highest quality. The Tour de France is a race that is a race of the highest quality. The Tour de France is a race that is a race\n",
            "\n"
          ]
        }
      ]
    }
  ]
}