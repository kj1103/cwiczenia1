{
  "nbformat": 4,
  "nbformat_minor": 0,
  "metadata": {
    "colab": {
      "provenance": [],
      "authorship_tag": "ABX9TyMaPnpOzx7FecjfQdw+uHLk",
      "include_colab_link": true
    },
    "kernelspec": {
      "name": "python3",
      "display_name": "Python 3"
    },
    "language_info": {
      "name": "python"
    }
  },
  "cells": [
    {
      "cell_type": "markdown",
      "metadata": {
        "id": "view-in-github",
        "colab_type": "text"
      },
      "source": [
        "<a href=\"https://colab.research.google.com/github/kj1103/cwiczenia1/blob/main/cwiczenia_rag.ipynb\" target=\"_parent\"><img src=\"https://colab.research.google.com/assets/colab-badge.svg\" alt=\"Open In Colab\"/></a>"
      ]
    },
    {
      "cell_type": "markdown",
      "source": [
        "Create a countdown timer from 10 to 0 and prints \"Liftoff!\" at the end"
      ],
      "metadata": {
        "id": "lKQV2lgbANHp"
      }
    },
    {
      "cell_type": "code",
      "execution_count": 3,
      "metadata": {
        "colab": {
          "base_uri": "https://localhost:8080/"
        },
        "id": "JGVLtoMsALih",
        "outputId": "8042eb2a-1291-46b0-9f71-484f291b19ca"
      },
      "outputs": [
        {
          "output_type": "stream",
          "name": "stdout",
          "text": [
            "time minus 10\n",
            "time minus 9\n",
            "time minus 8\n",
            "time minus 7\n",
            "time minus 6\n",
            "time minus 5\n",
            "time minus 4\n",
            "time minus 3\n",
            "time minus 2\n",
            "time minus 1\n",
            "Liftoff!\n"
          ]
        }
      ],
      "source": [
        "countdown =10\n",
        "import time\n",
        "\n",
        "\n",
        "\n",
        "while countdown >=0:\n",
        "   if countdown ==0:\n",
        "      print (f\"Liftoff!\")\n",
        "   else:\n",
        "      print (f\"time minus {countdown}\")\n",
        "   time.sleep(1)\n",
        "   countdown -=1\n"
      ]
    },
    {
      "cell_type": "code",
      "source": [
        "#Expense report\n",
        "monthly_expenses = [1200, 1350, 1050, 1450, 1150, 900, 1220]\n",
        "\n",
        "x = sum(monthly_expenses)\n",
        "print(f\"Montly expenses: {x}\")\n",
        "\n",
        "y= x/ len(monthly_expenses)\n",
        "print(f\"Average monthly expenses: {y}\")\n"
      ],
      "metadata": {
        "colab": {
          "base_uri": "https://localhost:8080/"
        },
        "id": "qTKtHjvEBw1s",
        "outputId": "765bbbea-0f25-4dbc-d4e9-cf4ee332a8c5"
      },
      "execution_count": 11,
      "outputs": [
        {
          "output_type": "stream",
          "name": "stdout",
          "text": [
            "Montly expenses: 8320\n",
            "Average monthly expenses: 1188.5714285714287\n"
          ]
        }
      ]
    },
    {
      "cell_type": "code",
      "source": [
        "import random\n"
      ],
      "metadata": {
        "id": "o1WTkQxYoxct"
      },
      "execution_count": 13,
      "outputs": []
    },
    {
      "cell_type": "code",
      "source": [
        "random.random()"
      ],
      "metadata": {
        "colab": {
          "base_uri": "https://localhost:8080/"
        },
        "id": "S9FQKrZio22e",
        "outputId": "6a12a195-5968-4899-bfe0-e234f0694846"
      },
      "execution_count": 14,
      "outputs": [
        {
          "output_type": "execute_result",
          "data": {
            "text/plain": [
              "0.5928830463893393"
            ]
          },
          "metadata": {},
          "execution_count": 14
        }
      ]
    },
    {
      "cell_type": "code",
      "source": [
        "random.randint(1,20)"
      ],
      "metadata": {
        "colab": {
          "base_uri": "https://localhost:8080/"
        },
        "id": "V4YuuxHho8XN",
        "outputId": "67999e14-7cf7-4fe0-b0ee-5f8839b5bc3f"
      },
      "execution_count": 16,
      "outputs": [
        {
          "output_type": "execute_result",
          "data": {
            "text/plain": [
              "15"
            ]
          },
          "metadata": {},
          "execution_count": 16
        }
      ]
    },
    {
      "cell_type": "code",
      "source": [
        "random.uniform(2,8)"
      ],
      "metadata": {
        "colab": {
          "base_uri": "https://localhost:8080/"
        },
        "id": "PfHAxqXapBqk",
        "outputId": "458ad9d8-95fe-4fec-e9ce-6d75d1d07e5d"
      },
      "execution_count": 19,
      "outputs": [
        {
          "output_type": "execute_result",
          "data": {
            "text/plain": [
              "2.1809042641208736"
            ]
          },
          "metadata": {},
          "execution_count": 19
        }
      ]
    },
    {
      "cell_type": "code",
      "source": [
        "my_list = ['a', 'b' , 'c']\n",
        "random.choice(my_list)"
      ],
      "metadata": {
        "colab": {
          "base_uri": "https://localhost:8080/",
          "height": 35
        },
        "id": "fFSI970wpMLu",
        "outputId": "39d80198-5fee-4365-87e5-ab6b375144ab"
      },
      "execution_count": 21,
      "outputs": [
        {
          "output_type": "execute_result",
          "data": {
            "text/plain": [
              "'c'"
            ],
            "application/vnd.google.colaboratory.intrinsic+json": {
              "type": "string"
            }
          },
          "metadata": {},
          "execution_count": 21
        }
      ]
    },
    {
      "cell_type": "code",
      "source": [
        "random.sample(my_list,2)"
      ],
      "metadata": {
        "colab": {
          "base_uri": "https://localhost:8080/"
        },
        "id": "q8zdYO30po1_",
        "outputId": "8b71d884-2c75-4560-934f-f8b741448319"
      },
      "execution_count": 25,
      "outputs": [
        {
          "output_type": "execute_result",
          "data": {
            "text/plain": [
              "['c', 'b']"
            ]
          },
          "metadata": {},
          "execution_count": 25
        }
      ]
    },
    {
      "cell_type": "code",
      "source": [
        "remaining_movies = ['The Matrix', 'Inception', 'The Dark Knight',\n",
        "                    'Avengers: Endgame', 'Interstellar']\n",
        "choosen_movie = random.choice(remaining_movies)\n",
        "remaining_movies.remove(choosen_movie)\n"
      ],
      "metadata": {
        "colab": {
          "base_uri": "https://localhost:8080/",
          "height": 35
        },
        "id": "Vl1uHIvZtEw0",
        "outputId": "847ca68b-60bf-4386-af4d-d11e8de41f23"
      },
      "execution_count": 28,
      "outputs": [
        {
          "output_type": "execute_result",
          "data": {
            "text/plain": [
              "'The Matrix'"
            ],
            "application/vnd.google.colaboratory.intrinsic+json": {
              "type": "string"
            }
          },
          "metadata": {},
          "execution_count": 28
        }
      ]
    },
    {
      "cell_type": "markdown",
      "source": [
        "Challenge: You are the bouncer at the entrance of Berghain nightclub. The club has the following rules for entry:\n",
        "\n",
        "Using print and input functions, prompt the user for their age and the current number of guests inside the club. Apply arithmetic operations and comparison operators to determine if the guest can enter the club.\n",
        "\n",
        "Good luck! Guests must be at least 18 years old. Guests must not be older than 60 years old. The maximum number of guests allowed in the club is 200.\n",
        "\n",
        "If the guest is allowed to enter, print a message saying, \"Welcome to Berghain!\" If the guest is not allowed to enter due to age restrictions, print a message saying, \"Sorry, you cannot enter the club due to age restrictions.\" If the guest is not allowed to enter due to the club being at maximum capacity, print a message saying, \"Sorry, the club is at maximum capacity. Please try again later.\""
      ],
      "metadata": {
        "id": "ruWsXcd0PmTR"
      }
    },
    {
      "cell_type": "code",
      "source": [
        "wiek= input(f\"wpisz swój wiek: \")\n",
        "numer_goscia = input(f\"liczba gości w klubie: \")\n",
        "\n",
        "if (int(wiek) > 18 and int(wiek) < 60) and (int(numer_goscia) < 199):\n",
        "    print(f\"wielcome to Berghain!\")\n",
        "elif (int(wiek) < 18 or int(wiek) > 60) and (int(numer_goscia) < 199):\n",
        "    print(f\"Sorry, you cannot enter the club due to age restrictions.\")\n",
        "elif (int(wiek) > 18 and int(wiek) < 60) and (int(numer_goscia) > 200):\n",
        "    print(f\"Sorry, the club is at maximum capacity. Please try again later.\")\n",
        "else:\n",
        "    print(f\"Sorry, not tonight.\")"
      ],
      "metadata": {
        "colab": {
          "base_uri": "https://localhost:8080/"
        },
        "id": "R14KTyViPvws",
        "outputId": "c244aed8-67a0-421a-c935-b39f855a1c6e"
      },
      "execution_count": 13,
      "outputs": [
        {
          "output_type": "stream",
          "name": "stdout",
          "text": [
            "wpisz swój wiek: 20\n",
            "liczba gości w klubie: 100\n",
            "wielcome to Berghain!\n"
          ]
        }
      ]
    },
    {
      "cell_type": "code",
      "source": [
        "expenses = {'groceries': 0, 'entertainment': 0, 'shopping': 0, 'other': 0}\n",
        "income = {'salary': 0, 'investments': 0, 'other': 0}\n"
      ],
      "metadata": {
        "id": "lJTZKn_Z6M93"
      },
      "execution_count": null,
      "outputs": []
    },
    {
      "cell_type": "code",
      "source": [
        "for i in range(5):\n",
        "    print(i)"
      ],
      "metadata": {
        "colab": {
          "base_uri": "https://localhost:8080/"
        },
        "id": "PXL6-YbafjR-",
        "outputId": "40ac4826-cc8a-433b-d6b8-b25ec56cad69"
      },
      "execution_count": 1,
      "outputs": [
        {
          "output_type": "stream",
          "name": "stdout",
          "text": [
            "0\n",
            "1\n",
            "2\n",
            "3\n",
            "4\n"
          ]
        }
      ]
    }
  ]
}